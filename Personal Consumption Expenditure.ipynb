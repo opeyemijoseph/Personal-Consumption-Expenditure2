{
 "cells": [
  {
   "cell_type": "code",
   "execution_count": 4,
   "source": [
    "#dataset obtained from dataworld\r\n",
    "import os\r\n",
    "import matplotlib.pyplot as plt\r\n",
    "%matplotlib inline\r\n",
    "import seaborn as sns\r\n",
    "import numpy as np\r\n",
    "import pandas as pd"
   ],
   "outputs": [],
   "metadata": {}
  },
  {
   "cell_type": "markdown",
   "source": [
    "This is a personal notebook, so brace up. My notebook might be somehow rough at times. \r\n",
    "The purpose of this EDA is to manipulate the data in other to display the date value in more suitable form and also \r\n",
    "visualize it, this same project would be done in tableau where more visualization and dashboard woul be added."
   ],
   "metadata": {}
  },
  {
   "cell_type": "code",
   "execution_count": 5,
   "source": [
    "df = pd.read_excel('Personal Consumption Expenditures.xlsx')"
   ],
   "outputs": [],
   "metadata": {}
  },
  {
   "cell_type": "code",
   "execution_count": 6,
   "source": [
    "pip install openpyxl"
   ],
   "outputs": [
    {
     "output_type": "stream",
     "name": "stdout",
     "text": [
      "Requirement already satisfied: openpyxl in c:\\programdata\\anaconda3\\lib\\site-packages (3.0.7)Note: you may need to restart the kernel to use updated packages.\n",
      "Requirement already satisfied: et-xmlfile in c:\\programdata\\anaconda3\\lib\\site-packages (from openpyxl) (1.0.1)\n",
      "\n"
     ]
    }
   ],
   "metadata": {}
  },
  {
   "cell_type": "code",
   "execution_count": 7,
   "source": [
    "df.head(10)"
   ],
   "outputs": [
    {
     "output_type": "execute_result",
     "data": {
      "text/html": [
       "<div>\n",
       "<style scoped>\n",
       "    .dataframe tbody tr th:only-of-type {\n",
       "        vertical-align: middle;\n",
       "    }\n",
       "\n",
       "    .dataframe tbody tr th {\n",
       "        vertical-align: top;\n",
       "    }\n",
       "\n",
       "    .dataframe thead th {\n",
       "        text-align: right;\n",
       "    }\n",
       "</style>\n",
       "<table border=\"1\" class=\"dataframe\">\n",
       "  <thead>\n",
       "    <tr style=\"text-align: right;\">\n",
       "      <th></th>\n",
       "      <th>Category</th>\n",
       "      <th>Sub-Category</th>\n",
       "      <th>Month</th>\n",
       "      <th>Millions of Dollars</th>\n",
       "    </tr>\n",
       "  </thead>\n",
       "  <tbody>\n",
       "    <tr>\n",
       "      <th>0</th>\n",
       "      <td>Alcoholic beverages</td>\n",
       "      <td>Beer</td>\n",
       "      <td>1976-01-01</td>\n",
       "      <td>9908</td>\n",
       "    </tr>\n",
       "    <tr>\n",
       "      <th>1</th>\n",
       "      <td>Alcoholic beverages</td>\n",
       "      <td>Beer</td>\n",
       "      <td>1976-02-01</td>\n",
       "      <td>9994</td>\n",
       "    </tr>\n",
       "    <tr>\n",
       "      <th>2</th>\n",
       "      <td>Alcoholic beverages</td>\n",
       "      <td>Beer</td>\n",
       "      <td>1976-03-01</td>\n",
       "      <td>10127</td>\n",
       "    </tr>\n",
       "    <tr>\n",
       "      <th>3</th>\n",
       "      <td>Alcoholic beverages</td>\n",
       "      <td>Beer</td>\n",
       "      <td>1976-04-01</td>\n",
       "      <td>10204</td>\n",
       "    </tr>\n",
       "    <tr>\n",
       "      <th>4</th>\n",
       "      <td>Alcoholic beverages</td>\n",
       "      <td>Beer</td>\n",
       "      <td>1976-05-01</td>\n",
       "      <td>10233</td>\n",
       "    </tr>\n",
       "    <tr>\n",
       "      <th>5</th>\n",
       "      <td>Alcoholic beverages</td>\n",
       "      <td>Beer</td>\n",
       "      <td>1976-06-01</td>\n",
       "      <td>10481</td>\n",
       "    </tr>\n",
       "    <tr>\n",
       "      <th>6</th>\n",
       "      <td>Alcoholic beverages</td>\n",
       "      <td>Beer</td>\n",
       "      <td>1976-07-01</td>\n",
       "      <td>10500</td>\n",
       "    </tr>\n",
       "    <tr>\n",
       "      <th>7</th>\n",
       "      <td>Alcoholic beverages</td>\n",
       "      <td>Beer</td>\n",
       "      <td>1976-08-01</td>\n",
       "      <td>10537</td>\n",
       "    </tr>\n",
       "    <tr>\n",
       "      <th>8</th>\n",
       "      <td>Alcoholic beverages</td>\n",
       "      <td>Beer</td>\n",
       "      <td>1976-09-01</td>\n",
       "      <td>10586</td>\n",
       "    </tr>\n",
       "    <tr>\n",
       "      <th>9</th>\n",
       "      <td>Alcoholic beverages</td>\n",
       "      <td>Beer</td>\n",
       "      <td>1976-10-01</td>\n",
       "      <td>10752</td>\n",
       "    </tr>\n",
       "  </tbody>\n",
       "</table>\n",
       "</div>"
      ],
      "text/plain": [
       "              Category Sub-Category      Month  Millions of Dollars\n",
       "0  Alcoholic beverages         Beer 1976-01-01                 9908\n",
       "1  Alcoholic beverages         Beer 1976-02-01                 9994\n",
       "2  Alcoholic beverages         Beer 1976-03-01                10127\n",
       "3  Alcoholic beverages         Beer 1976-04-01                10204\n",
       "4  Alcoholic beverages         Beer 1976-05-01                10233\n",
       "5  Alcoholic beverages         Beer 1976-06-01                10481\n",
       "6  Alcoholic beverages         Beer 1976-07-01                10500\n",
       "7  Alcoholic beverages         Beer 1976-08-01                10537\n",
       "8  Alcoholic beverages         Beer 1976-09-01                10586\n",
       "9  Alcoholic beverages         Beer 1976-10-01                10752"
      ]
     },
     "metadata": {},
     "execution_count": 7
    }
   ],
   "metadata": {}
  },
  {
   "cell_type": "code",
   "execution_count": 8,
   "source": [
    "df.tail(10)"
   ],
   "outputs": [
    {
     "output_type": "execute_result",
     "data": {
      "text/html": [
       "<div>\n",
       "<style scoped>\n",
       "    .dataframe tbody tr th:only-of-type {\n",
       "        vertical-align: middle;\n",
       "    }\n",
       "\n",
       "    .dataframe tbody tr th {\n",
       "        vertical-align: top;\n",
       "    }\n",
       "\n",
       "    .dataframe thead th {\n",
       "        text-align: right;\n",
       "    }\n",
       "</style>\n",
       "<table border=\"1\" class=\"dataframe\">\n",
       "  <thead>\n",
       "    <tr style=\"text-align: right;\">\n",
       "      <th></th>\n",
       "      <th>Category</th>\n",
       "      <th>Sub-Category</th>\n",
       "      <th>Month</th>\n",
       "      <th>Millions of Dollars</th>\n",
       "    </tr>\n",
       "  </thead>\n",
       "  <tbody>\n",
       "    <tr>\n",
       "      <th>14890</th>\n",
       "      <td>Fats and oils</td>\n",
       "      <td>Fats and oils</td>\n",
       "      <td>2021-01-01</td>\n",
       "      <td>26726</td>\n",
       "    </tr>\n",
       "    <tr>\n",
       "      <th>14891</th>\n",
       "      <td>Fresh fruits and vegetables</td>\n",
       "      <td>Fruit (fresh)</td>\n",
       "      <td>2021-01-01</td>\n",
       "      <td>47148</td>\n",
       "    </tr>\n",
       "    <tr>\n",
       "      <th>14892</th>\n",
       "      <td>Fresh fruits and vegetables</td>\n",
       "      <td>Vegetables (fresh)</td>\n",
       "      <td>2021-01-01</td>\n",
       "      <td>57305</td>\n",
       "    </tr>\n",
       "    <tr>\n",
       "      <th>14893</th>\n",
       "      <td>Processed fruits and vegetables</td>\n",
       "      <td>Processed fruits and vegetables</td>\n",
       "      <td>2021-01-01</td>\n",
       "      <td>34900</td>\n",
       "    </tr>\n",
       "    <tr>\n",
       "      <th>14894</th>\n",
       "      <td>Sugar and sweets</td>\n",
       "      <td>Sugar and sweets</td>\n",
       "      <td>2021-01-01</td>\n",
       "      <td>53817</td>\n",
       "    </tr>\n",
       "    <tr>\n",
       "      <th>14895</th>\n",
       "      <td>Coffee, tea, and other beverage materials</td>\n",
       "      <td>Coffee, tea, and other beverage materials</td>\n",
       "      <td>2021-01-01</td>\n",
       "      <td>18768</td>\n",
       "    </tr>\n",
       "    <tr>\n",
       "      <th>14896</th>\n",
       "      <td>Mineral waters, soft drinks, and vegetable juices</td>\n",
       "      <td>Mineral waters, soft drinks, and vegetable juices</td>\n",
       "      <td>2021-01-01</td>\n",
       "      <td>93320</td>\n",
       "    </tr>\n",
       "    <tr>\n",
       "      <th>14897</th>\n",
       "      <td>Alcoholic beverages</td>\n",
       "      <td>Spirits</td>\n",
       "      <td>2021-01-01</td>\n",
       "      <td>39325</td>\n",
       "    </tr>\n",
       "    <tr>\n",
       "      <th>14898</th>\n",
       "      <td>Alcoholic beverages</td>\n",
       "      <td>Wine</td>\n",
       "      <td>2021-01-01</td>\n",
       "      <td>54832</td>\n",
       "    </tr>\n",
       "    <tr>\n",
       "      <th>14899</th>\n",
       "      <td>Alcoholic beverages</td>\n",
       "      <td>Beer</td>\n",
       "      <td>2021-01-01</td>\n",
       "      <td>79753</td>\n",
       "    </tr>\n",
       "  </tbody>\n",
       "</table>\n",
       "</div>"
      ],
      "text/plain": [
       "                                                Category  \\\n",
       "14890                                      Fats and oils   \n",
       "14891                        Fresh fruits and vegetables   \n",
       "14892                        Fresh fruits and vegetables   \n",
       "14893                    Processed fruits and vegetables   \n",
       "14894                                   Sugar and sweets   \n",
       "14895          Coffee, tea, and other beverage materials   \n",
       "14896  Mineral waters, soft drinks, and vegetable juices   \n",
       "14897                                Alcoholic beverages   \n",
       "14898                                Alcoholic beverages   \n",
       "14899                                Alcoholic beverages   \n",
       "\n",
       "                                            Sub-Category      Month  \\\n",
       "14890                                      Fats and oils 2021-01-01   \n",
       "14891                                      Fruit (fresh) 2021-01-01   \n",
       "14892                                 Vegetables (fresh) 2021-01-01   \n",
       "14893                    Processed fruits and vegetables 2021-01-01   \n",
       "14894                                   Sugar and sweets 2021-01-01   \n",
       "14895          Coffee, tea, and other beverage materials 2021-01-01   \n",
       "14896  Mineral waters, soft drinks, and vegetable juices 2021-01-01   \n",
       "14897                                            Spirits 2021-01-01   \n",
       "14898                                               Wine 2021-01-01   \n",
       "14899                                               Beer 2021-01-01   \n",
       "\n",
       "       Millions of Dollars  \n",
       "14890                26726  \n",
       "14891                47148  \n",
       "14892                57305  \n",
       "14893                34900  \n",
       "14894                53817  \n",
       "14895                18768  \n",
       "14896                93320  \n",
       "14897                39325  \n",
       "14898                54832  \n",
       "14899                79753  "
      ]
     },
     "metadata": {},
     "execution_count": 8
    }
   ],
   "metadata": {}
  },
  {
   "cell_type": "code",
   "execution_count": 9,
   "source": [
    "df.isnull().sum()"
   ],
   "outputs": [
    {
     "output_type": "execute_result",
     "data": {
      "text/plain": [
       "Category               0\n",
       "Sub-Category           0\n",
       "Month                  0\n",
       "Millions of Dollars    0\n",
       "dtype: int64"
      ]
     },
     "metadata": {},
     "execution_count": 9
    }
   ],
   "metadata": {}
  },
  {
   "cell_type": "code",
   "execution_count": 10,
   "source": [
    "df.columns"
   ],
   "outputs": [
    {
     "output_type": "execute_result",
     "data": {
      "text/plain": [
       "Index(['Category', 'Sub-Category', 'Month', 'Millions of Dollars'], dtype='object')"
      ]
     },
     "metadata": {},
     "execution_count": 10
    }
   ],
   "metadata": {}
  },
  {
   "cell_type": "code",
   "execution_count": 11,
   "source": [
    "df['Month'] = pd.to_datetime(df['Month'])"
   ],
   "outputs": [],
   "metadata": {}
  },
  {
   "cell_type": "code",
   "execution_count": 12,
   "source": [
    "df.info()"
   ],
   "outputs": [
    {
     "output_type": "stream",
     "name": "stdout",
     "text": [
      "<class 'pandas.core.frame.DataFrame'>\n",
      "RangeIndex: 14900 entries, 0 to 14899\n",
      "Data columns (total 4 columns):\n",
      " #   Column               Non-Null Count  Dtype         \n",
      "---  ------               --------------  -----         \n",
      " 0   Category             14900 non-null  object        \n",
      " 1   Sub-Category         14900 non-null  object        \n",
      " 2   Month                14900 non-null  datetime64[ns]\n",
      " 3   Millions of Dollars  14900 non-null  int64         \n",
      "dtypes: datetime64[ns](1), int64(1), object(2)\n",
      "memory usage: 465.8+ KB\n"
     ]
    }
   ],
   "metadata": {}
  },
  {
   "cell_type": "code",
   "execution_count": 13,
   "source": [
    "df.shape"
   ],
   "outputs": [
    {
     "output_type": "execute_result",
     "data": {
      "text/plain": [
       "(14900, 4)"
      ]
     },
     "metadata": {},
     "execution_count": 13
    }
   ],
   "metadata": {}
  },
  {
   "cell_type": "code",
   "execution_count": 14,
   "source": [
    "x = df['Category'].unique()\r\n",
    "y = df['Category'].nunique()\r\n",
    "print(x)\r\n",
    "print('Number Of Unique:', y)\r\n"
   ],
   "outputs": [
    {
     "output_type": "stream",
     "name": "stdout",
     "text": [
      "['Alcoholic beverages' 'Cereals and bakery products' 'Fats and oils'\n",
      " 'Fish and seafood' 'Fresh fruits and vegetables' 'Meats and poultry'\n",
      " 'Milk, dairy products, and eggs' 'Processed fruits and vegetables'\n",
      " 'Sugar and sweets' 'Coffee, tea, and other beverage materials'\n",
      " 'Mineral waters, soft drinks, and vegetable juices']\n",
      "Number Of Unique: 11\n"
     ]
    }
   ],
   "metadata": {}
  },
  {
   "cell_type": "code",
   "execution_count": 15,
   "source": [
    "x= df['Sub-Category'].unique()\r\n",
    "y = df['Sub-Category'].nunique()\r\n",
    "print(x)\r\n",
    "print('Number Of Unique:', y)"
   ],
   "outputs": [
    {
     "output_type": "stream",
     "name": "stdout",
     "text": [
      "['Beer' 'Spirits' 'Wine' 'Bakery products' 'Cereals' 'Fats and oils'\n",
      " 'Fish and seafood' 'Fruit (fresh)' 'Vegetables (fresh)' 'Beef and veal'\n",
      " 'Other meats' 'Pork' 'Poultry' 'Eggs' 'Fresh milk'\n",
      " 'Processed dairy products' 'Processed fruits and vegetables'\n",
      " 'Sugar and sweets' 'Coffee, tea, and other beverage materials'\n",
      " 'Mineral waters, soft drinks, and vegetable juices']\n",
      "Number Of Unique: 20\n"
     ]
    }
   ],
   "metadata": {}
  },
  {
   "cell_type": "markdown",
   "source": [
    "I have this habit of sampling the datafeame often just to make sure am doing the right thing. :)"
   ],
   "metadata": {}
  },
  {
   "cell_type": "code",
   "execution_count": 16,
   "source": [
    "df.sample(10)"
   ],
   "outputs": [
    {
     "output_type": "execute_result",
     "data": {
      "text/html": [
       "<div>\n",
       "<style scoped>\n",
       "    .dataframe tbody tr th:only-of-type {\n",
       "        vertical-align: middle;\n",
       "    }\n",
       "\n",
       "    .dataframe tbody tr th {\n",
       "        vertical-align: top;\n",
       "    }\n",
       "\n",
       "    .dataframe thead th {\n",
       "        text-align: right;\n",
       "    }\n",
       "</style>\n",
       "<table border=\"1\" class=\"dataframe\">\n",
       "  <thead>\n",
       "    <tr style=\"text-align: right;\">\n",
       "      <th></th>\n",
       "      <th>Category</th>\n",
       "      <th>Sub-Category</th>\n",
       "      <th>Month</th>\n",
       "      <th>Millions of Dollars</th>\n",
       "    </tr>\n",
       "  </thead>\n",
       "  <tbody>\n",
       "    <tr>\n",
       "      <th>12318</th>\n",
       "      <td>Meats and poultry</td>\n",
       "      <td>Beef and veal</td>\n",
       "      <td>2013-03-01</td>\n",
       "      <td>41293</td>\n",
       "    </tr>\n",
       "    <tr>\n",
       "      <th>12842</th>\n",
       "      <td>Meats and poultry</td>\n",
       "      <td>Pork</td>\n",
       "      <td>2019-07-01</td>\n",
       "      <td>36142</td>\n",
       "    </tr>\n",
       "    <tr>\n",
       "      <th>11077</th>\n",
       "      <td>Cereals and bakery products</td>\n",
       "      <td>Cereals</td>\n",
       "      <td>2003-02-01</td>\n",
       "      <td>27964</td>\n",
       "    </tr>\n",
       "    <tr>\n",
       "      <th>864</th>\n",
       "      <td>Cereals and bakery products</td>\n",
       "      <td>Cereals</td>\n",
       "      <td>1988-01-01</td>\n",
       "      <td>15089</td>\n",
       "    </tr>\n",
       "    <tr>\n",
       "      <th>9999</th>\n",
       "      <td>Coffee, tea, and other beverage materials</td>\n",
       "      <td>Coffee, tea, and other beverage materials</td>\n",
       "      <td>1998-04-01</td>\n",
       "      <td>6880</td>\n",
       "    </tr>\n",
       "    <tr>\n",
       "      <th>13567</th>\n",
       "      <td>Milk, dairy products, and eggs</td>\n",
       "      <td>Processed dairy products</td>\n",
       "      <td>2005-04-01</td>\n",
       "      <td>31609</td>\n",
       "    </tr>\n",
       "    <tr>\n",
       "      <th>14243</th>\n",
       "      <td>Coffee, tea, and other beverage materials</td>\n",
       "      <td>Coffee, tea, and other beverage materials</td>\n",
       "      <td>2005-08-01</td>\n",
       "      <td>8271</td>\n",
       "    </tr>\n",
       "    <tr>\n",
       "      <th>7664</th>\n",
       "      <td>Mineral waters, soft drinks, and vegetable juices</td>\n",
       "      <td>Mineral waters, soft drinks, and vegetable juices</td>\n",
       "      <td>1974-09-01</td>\n",
       "      <td>9982</td>\n",
       "    </tr>\n",
       "    <tr>\n",
       "      <th>14120</th>\n",
       "      <td>Sugar and sweets</td>\n",
       "      <td>Sugar and sweets</td>\n",
       "      <td>2014-01-01</td>\n",
       "      <td>40393</td>\n",
       "    </tr>\n",
       "    <tr>\n",
       "      <th>9895</th>\n",
       "      <td>Sugar and sweets</td>\n",
       "      <td>Sugar and sweets</td>\n",
       "      <td>1999-12-01</td>\n",
       "      <td>31266</td>\n",
       "    </tr>\n",
       "  </tbody>\n",
       "</table>\n",
       "</div>"
      ],
      "text/plain": [
       "                                                Category  \\\n",
       "12318                                  Meats and poultry   \n",
       "12842                                  Meats and poultry   \n",
       "11077                        Cereals and bakery products   \n",
       "864                          Cereals and bakery products   \n",
       "9999           Coffee, tea, and other beverage materials   \n",
       "13567                     Milk, dairy products, and eggs   \n",
       "14243          Coffee, tea, and other beverage materials   \n",
       "7664   Mineral waters, soft drinks, and vegetable juices   \n",
       "14120                                   Sugar and sweets   \n",
       "9895                                    Sugar and sweets   \n",
       "\n",
       "                                            Sub-Category      Month  \\\n",
       "12318                                      Beef and veal 2013-03-01   \n",
       "12842                                               Pork 2019-07-01   \n",
       "11077                                            Cereals 2003-02-01   \n",
       "864                                              Cereals 1988-01-01   \n",
       "9999           Coffee, tea, and other beverage materials 1998-04-01   \n",
       "13567                           Processed dairy products 2005-04-01   \n",
       "14243          Coffee, tea, and other beverage materials 2005-08-01   \n",
       "7664   Mineral waters, soft drinks, and vegetable juices 1974-09-01   \n",
       "14120                                   Sugar and sweets 2014-01-01   \n",
       "9895                                    Sugar and sweets 1999-12-01   \n",
       "\n",
       "       Millions of Dollars  \n",
       "12318                41293  \n",
       "12842                36142  \n",
       "11077                27964  \n",
       "864                  15089  \n",
       "9999                  6880  \n",
       "13567                31609  \n",
       "14243                 8271  \n",
       "7664                  9982  \n",
       "14120                40393  \n",
       "9895                 31266  "
      ]
     },
     "metadata": {},
     "execution_count": 16
    }
   ],
   "metadata": {}
  },
  {
   "cell_type": "code",
   "execution_count": 17,
   "source": [
    "df.describe()"
   ],
   "outputs": [
    {
     "output_type": "execute_result",
     "data": {
      "text/html": [
       "<div>\n",
       "<style scoped>\n",
       "    .dataframe tbody tr th:only-of-type {\n",
       "        vertical-align: middle;\n",
       "    }\n",
       "\n",
       "    .dataframe tbody tr th {\n",
       "        vertical-align: top;\n",
       "    }\n",
       "\n",
       "    .dataframe thead th {\n",
       "        text-align: right;\n",
       "    }\n",
       "</style>\n",
       "<table border=\"1\" class=\"dataframe\">\n",
       "  <thead>\n",
       "    <tr style=\"text-align: right;\">\n",
       "      <th></th>\n",
       "      <th>Millions of Dollars</th>\n",
       "    </tr>\n",
       "  </thead>\n",
       "  <tbody>\n",
       "    <tr>\n",
       "      <th>count</th>\n",
       "      <td>14900.000000</td>\n",
       "    </tr>\n",
       "    <tr>\n",
       "      <th>mean</th>\n",
       "      <td>18466.317919</td>\n",
       "    </tr>\n",
       "    <tr>\n",
       "      <th>std</th>\n",
       "      <td>17313.017113</td>\n",
       "    </tr>\n",
       "    <tr>\n",
       "      <th>min</th>\n",
       "      <td>524.000000</td>\n",
       "    </tr>\n",
       "    <tr>\n",
       "      <th>25%</th>\n",
       "      <td>5630.750000</td>\n",
       "    </tr>\n",
       "    <tr>\n",
       "      <th>50%</th>\n",
       "      <td>12827.500000</td>\n",
       "    </tr>\n",
       "    <tr>\n",
       "      <th>75%</th>\n",
       "      <td>26317.750000</td>\n",
       "    </tr>\n",
       "    <tr>\n",
       "      <th>max</th>\n",
       "      <td>115310.000000</td>\n",
       "    </tr>\n",
       "  </tbody>\n",
       "</table>\n",
       "</div>"
      ],
      "text/plain": [
       "       Millions of Dollars\n",
       "count         14900.000000\n",
       "mean          18466.317919\n",
       "std           17313.017113\n",
       "min             524.000000\n",
       "25%            5630.750000\n",
       "50%           12827.500000\n",
       "75%           26317.750000\n",
       "max          115310.000000"
      ]
     },
     "metadata": {},
     "execution_count": 17
    }
   ],
   "metadata": {}
  },
  {
   "cell_type": "code",
   "execution_count": 18,
   "source": [
    "df.isnull().any()"
   ],
   "outputs": [
    {
     "output_type": "execute_result",
     "data": {
      "text/plain": [
       "Category               False\n",
       "Sub-Category           False\n",
       "Month                  False\n",
       "Millions of Dollars    False\n",
       "dtype: bool"
      ]
     },
     "metadata": {},
     "execution_count": 18
    }
   ],
   "metadata": {}
  },
  {
   "cell_type": "markdown",
   "source": [
    "From the next cell hence, i would be start doing some simple visualizations."
   ],
   "metadata": {}
  },
  {
   "cell_type": "code",
   "execution_count": 19,
   "source": [
    "ax = sns.barplot(x='Sub-Category', y='Millions of Dollars', data=df)\r\n",
    "ax.tick_params(axis='x', rotation=90)"
   ],
   "outputs": [
    {
     "output_type": "display_data",
     "data": {
      "image/png": "[encoded data removed]",
      "text/plain": [
       "<Figure size 432x288 with 1 Axes>"
      ]
     },
     "metadata": {
      "needs_background": "light"
     }
    }
   ],
   "metadata": {}
  },
  {
   "cell_type": "code",
   "execution_count": 20,
   "source": [
    "ax = sns.barplot(x='Category', y='Millions of Dollars', data=df)\r\n",
    "ax.tick_params(axis='x', rotation=90)"
   ],
   "outputs": [
    {
     "output_type": "display_data",
     "data": {
      "image/png": "[encoded data removed]",
      "text/plain": [
       "<Figure size 432x288 with 1 Axes>"
      ]
     },
     "metadata": {
      "needs_background": "light"
     }
    }
   ],
   "metadata": {}
  },
  {
   "cell_type": "markdown",
   "source": [
    "Am simplifying the month coulmn so i can comfortably plot graphs for to see trend in the datetime better."
   ],
   "metadata": {}
  },
  {
   "cell_type": "code",
   "execution_count": 21,
   "source": [
    "import datetime\r\n",
    "df['Weekday_num'] = pd.DatetimeIndex(df['Month']).weekday\r\n",
    "df['Weekday'] = pd.DatetimeIndex(df['Month']).day_name()\r\n",
    "df['Year'] = pd.DatetimeIndex(df['Month']).year\r\n",
    "df['Month name'] = pd.DatetimeIndex(df['Month']).month_name()\r\n",
    "#df.drop('Weekday_name', axis='columns', inplace=True)"
   ],
   "outputs": [],
   "metadata": {}
  },
  {
   "cell_type": "code",
   "execution_count": 22,
   "source": [
    "df.head(10)"
   ],
   "outputs": [
    {
     "output_type": "execute_result",
     "data": {
      "text/html": [
       "<div>\n",
       "<style scoped>\n",
       "    .dataframe tbody tr th:only-of-type {\n",
       "        vertical-align: middle;\n",
       "    }\n",
       "\n",
       "    .dataframe tbody tr th {\n",
       "        vertical-align: top;\n",
       "    }\n",
       "\n",
       "    .dataframe thead th {\n",
       "        text-align: right;\n",
       "    }\n",
       "</style>\n",
       "<table border=\"1\" class=\"dataframe\">\n",
       "  <thead>\n",
       "    <tr style=\"text-align: right;\">\n",
       "      <th></th>\n",
       "      <th>Category</th>\n",
       "      <th>Sub-Category</th>\n",
       "      <th>Month</th>\n",
       "      <th>Millions of Dollars</th>\n",
       "      <th>Weekday_num</th>\n",
       "      <th>Weekday</th>\n",
       "      <th>Year</th>\n",
       "      <th>Month name</th>\n",
       "    </tr>\n",
       "  </thead>\n",
       "  <tbody>\n",
       "    <tr>\n",
       "      <th>0</th>\n",
       "      <td>Alcoholic beverages</td>\n",
       "      <td>Beer</td>\n",
       "      <td>1976-01-01</td>\n",
       "      <td>9908</td>\n",
       "      <td>3</td>\n",
       "      <td>Thursday</td>\n",
       "      <td>1976</td>\n",
       "      <td>January</td>\n",
       "    </tr>\n",
       "    <tr>\n",
       "      <th>1</th>\n",
       "      <td>Alcoholic beverages</td>\n",
       "      <td>Beer</td>\n",
       "      <td>1976-02-01</td>\n",
       "      <td>9994</td>\n",
       "      <td>6</td>\n",
       "      <td>Sunday</td>\n",
       "      <td>1976</td>\n",
       "      <td>February</td>\n",
       "    </tr>\n",
       "    <tr>\n",
       "      <th>2</th>\n",
       "      <td>Alcoholic beverages</td>\n",
       "      <td>Beer</td>\n",
       "      <td>1976-03-01</td>\n",
       "      <td>10127</td>\n",
       "      <td>0</td>\n",
       "      <td>Monday</td>\n",
       "      <td>1976</td>\n",
       "      <td>March</td>\n",
       "    </tr>\n",
       "    <tr>\n",
       "      <th>3</th>\n",
       "      <td>Alcoholic beverages</td>\n",
       "      <td>Beer</td>\n",
       "      <td>1976-04-01</td>\n",
       "      <td>10204</td>\n",
       "      <td>3</td>\n",
       "      <td>Thursday</td>\n",
       "      <td>1976</td>\n",
       "      <td>April</td>\n",
       "    </tr>\n",
       "    <tr>\n",
       "      <th>4</th>\n",
       "      <td>Alcoholic beverages</td>\n",
       "      <td>Beer</td>\n",
       "      <td>1976-05-01</td>\n",
       "      <td>10233</td>\n",
       "      <td>5</td>\n",
       "      <td>Saturday</td>\n",
       "      <td>1976</td>\n",
       "      <td>May</td>\n",
       "    </tr>\n",
       "    <tr>\n",
       "      <th>5</th>\n",
       "      <td>Alcoholic beverages</td>\n",
       "      <td>Beer</td>\n",
       "      <td>1976-06-01</td>\n",
       "      <td>10481</td>\n",
       "      <td>1</td>\n",
       "      <td>Tuesday</td>\n",
       "      <td>1976</td>\n",
       "      <td>June</td>\n",
       "    </tr>\n",
       "    <tr>\n",
       "      <th>6</th>\n",
       "      <td>Alcoholic beverages</td>\n",
       "      <td>Beer</td>\n",
       "      <td>1976-07-01</td>\n",
       "      <td>10500</td>\n",
       "      <td>3</td>\n",
       "      <td>Thursday</td>\n",
       "      <td>1976</td>\n",
       "      <td>July</td>\n",
       "    </tr>\n",
       "    <tr>\n",
       "      <th>7</th>\n",
       "      <td>Alcoholic beverages</td>\n",
       "      <td>Beer</td>\n",
       "      <td>1976-08-01</td>\n",
       "      <td>10537</td>\n",
       "      <td>6</td>\n",
       "      <td>Sunday</td>\n",
       "      <td>1976</td>\n",
       "      <td>August</td>\n",
       "    </tr>\n",
       "    <tr>\n",
       "      <th>8</th>\n",
       "      <td>Alcoholic beverages</td>\n",
       "      <td>Beer</td>\n",
       "      <td>1976-09-01</td>\n",
       "      <td>10586</td>\n",
       "      <td>2</td>\n",
       "      <td>Wednesday</td>\n",
       "      <td>1976</td>\n",
       "      <td>September</td>\n",
       "    </tr>\n",
       "    <tr>\n",
       "      <th>9</th>\n",
       "      <td>Alcoholic beverages</td>\n",
       "      <td>Beer</td>\n",
       "      <td>1976-10-01</td>\n",
       "      <td>10752</td>\n",
       "      <td>4</td>\n",
       "      <td>Friday</td>\n",
       "      <td>1976</td>\n",
       "      <td>October</td>\n",
       "    </tr>\n",
       "  </tbody>\n",
       "</table>\n",
       "</div>"
      ],
      "text/plain": [
       "              Category Sub-Category      Month  Millions of Dollars  \\\n",
       "0  Alcoholic beverages         Beer 1976-01-01                 9908   \n",
       "1  Alcoholic beverages         Beer 1976-02-01                 9994   \n",
       "2  Alcoholic beverages         Beer 1976-03-01                10127   \n",
       "3  Alcoholic beverages         Beer 1976-04-01                10204   \n",
       "4  Alcoholic beverages         Beer 1976-05-01                10233   \n",
       "5  Alcoholic beverages         Beer 1976-06-01                10481   \n",
       "6  Alcoholic beverages         Beer 1976-07-01                10500   \n",
       "7  Alcoholic beverages         Beer 1976-08-01                10537   \n",
       "8  Alcoholic beverages         Beer 1976-09-01                10586   \n",
       "9  Alcoholic beverages         Beer 1976-10-01                10752   \n",
       "\n",
       "   Weekday_num    Weekday  Year Month name  \n",
       "0            3   Thursday  1976    January  \n",
       "1            6     Sunday  1976   February  \n",
       "2            0     Monday  1976      March  \n",
       "3            3   Thursday  1976      April  \n",
       "4            5   Saturday  1976        May  \n",
       "5            1    Tuesday  1976       June  \n",
       "6            3   Thursday  1976       July  \n",
       "7            6     Sunday  1976     August  \n",
       "8            2  Wednesday  1976  September  \n",
       "9            4     Friday  1976    October  "
      ]
     },
     "metadata": {},
     "execution_count": 22
    }
   ],
   "metadata": {}
  },
  {
   "cell_type": "code",
   "execution_count": 23,
   "source": [
    "sns.countplot(y='Category', data=df)"
   ],
   "outputs": [
    {
     "output_type": "execute_result",
     "data": {
      "text/plain": [
       "<AxesSubplot:xlabel='count', ylabel='Category'>"
      ]
     },
     "metadata": {},
     "execution_count": 23
    },
    {
     "output_type": "display_data",
     "data": {
      "image/png": "[encoded data removed]",
      "text/plain": [
       "<Figure size 432x288 with 1 Axes>"
      ]
     },
     "metadata": {
      "needs_background": "light"
     }
    }
   ],
   "metadata": {}
  },
  {
   "cell_type": "code",
   "execution_count": 24,
   "source": [
    "#df.groupby(['Year'])['Millions of Dollars'].sum().plot(kind='bar')\r\n",
    "sns.set(rc={'figure.figsize':(20,5)})\r\n",
    "ax = sns.barplot(x='Year', y='Millions of Dollars', data=df)\r\n",
    "ax.tick_params(axis='x', rotation=90)"
   ],
   "outputs": [
    {
     "output_type": "display_data",
     "data": {
      "image/png": "[encoded data removed]",
      "text/plain": [
       "<Figure size 1440x360 with 1 Axes>"
      ]
     },
     "metadata": {}
    }
   ],
   "metadata": {}
  },
  {
   "cell_type": "code",
   "execution_count": 25,
   "source": [
    "sns.set(rc={'figure.figsize':(20,5)})\r\n",
    "ax = sns.barplot(x='Sub-Category', y='Millions of Dollars', data=df)\r\n",
    "ax.tick_params(axis='x', rotation=90)"
   ],
   "outputs": [
    {
     "output_type": "display_data",
     "data": {
      "image/png": "[encoded data removed]",
      "text/plain": [
       "<Figure size 1440x360 with 1 Axes>"
      ]
     },
     "metadata": {}
    }
   ],
   "metadata": {}
  },
  {
   "cell_type": "code",
   "execution_count": 26,
   "source": [
    "df.loc[df['Sub-Category']== 'Beer']"
   ],
   "outputs": [
    {
     "output_type": "execute_result",
     "data": {
      "text/html": [
       "<div>\n",
       "<style scoped>\n",
       "    .dataframe tbody tr th:only-of-type {\n",
       "        vertical-align: middle;\n",
       "    }\n",
       "\n",
       "    .dataframe tbody tr th {\n",
       "        vertical-align: top;\n",
       "    }\n",
       "\n",
       "    .dataframe thead th {\n",
       "        text-align: right;\n",
       "    }\n",
       "</style>\n",
       "<table border=\"1\" class=\"dataframe\">\n",
       "  <thead>\n",
       "    <tr style=\"text-align: right;\">\n",
       "      <th></th>\n",
       "      <th>Category</th>\n",
       "      <th>Sub-Category</th>\n",
       "      <th>Month</th>\n",
       "      <th>Millions of Dollars</th>\n",
       "      <th>Weekday_num</th>\n",
       "      <th>Weekday</th>\n",
       "      <th>Year</th>\n",
       "      <th>Month name</th>\n",
       "    </tr>\n",
       "  </thead>\n",
       "  <tbody>\n",
       "    <tr>\n",
       "      <th>0</th>\n",
       "      <td>Alcoholic beverages</td>\n",
       "      <td>Beer</td>\n",
       "      <td>1976-01-01</td>\n",
       "      <td>9908</td>\n",
       "      <td>3</td>\n",
       "      <td>Thursday</td>\n",
       "      <td>1976</td>\n",
       "      <td>January</td>\n",
       "    </tr>\n",
       "    <tr>\n",
       "      <th>1</th>\n",
       "      <td>Alcoholic beverages</td>\n",
       "      <td>Beer</td>\n",
       "      <td>1976-02-01</td>\n",
       "      <td>9994</td>\n",
       "      <td>6</td>\n",
       "      <td>Sunday</td>\n",
       "      <td>1976</td>\n",
       "      <td>February</td>\n",
       "    </tr>\n",
       "    <tr>\n",
       "      <th>2</th>\n",
       "      <td>Alcoholic beverages</td>\n",
       "      <td>Beer</td>\n",
       "      <td>1976-03-01</td>\n",
       "      <td>10127</td>\n",
       "      <td>0</td>\n",
       "      <td>Monday</td>\n",
       "      <td>1976</td>\n",
       "      <td>March</td>\n",
       "    </tr>\n",
       "    <tr>\n",
       "      <th>3</th>\n",
       "      <td>Alcoholic beverages</td>\n",
       "      <td>Beer</td>\n",
       "      <td>1976-04-01</td>\n",
       "      <td>10204</td>\n",
       "      <td>3</td>\n",
       "      <td>Thursday</td>\n",
       "      <td>1976</td>\n",
       "      <td>April</td>\n",
       "    </tr>\n",
       "    <tr>\n",
       "      <th>4</th>\n",
       "      <td>Alcoholic beverages</td>\n",
       "      <td>Beer</td>\n",
       "      <td>1976-05-01</td>\n",
       "      <td>10233</td>\n",
       "      <td>5</td>\n",
       "      <td>Saturday</td>\n",
       "      <td>1976</td>\n",
       "      <td>May</td>\n",
       "    </tr>\n",
       "    <tr>\n",
       "      <th>...</th>\n",
       "      <td>...</td>\n",
       "      <td>...</td>\n",
       "      <td>...</td>\n",
       "      <td>...</td>\n",
       "      <td>...</td>\n",
       "      <td>...</td>\n",
       "      <td>...</td>\n",
       "      <td>...</td>\n",
       "    </tr>\n",
       "    <tr>\n",
       "      <th>14819</th>\n",
       "      <td>Alcoholic beverages</td>\n",
       "      <td>Beer</td>\n",
       "      <td>2020-09-01</td>\n",
       "      <td>78580</td>\n",
       "      <td>1</td>\n",
       "      <td>Tuesday</td>\n",
       "      <td>2020</td>\n",
       "      <td>September</td>\n",
       "    </tr>\n",
       "    <tr>\n",
       "      <th>14839</th>\n",
       "      <td>Alcoholic beverages</td>\n",
       "      <td>Beer</td>\n",
       "      <td>2020-10-01</td>\n",
       "      <td>77572</td>\n",
       "      <td>3</td>\n",
       "      <td>Thursday</td>\n",
       "      <td>2020</td>\n",
       "      <td>October</td>\n",
       "    </tr>\n",
       "    <tr>\n",
       "      <th>14859</th>\n",
       "      <td>Alcoholic beverages</td>\n",
       "      <td>Beer</td>\n",
       "      <td>2020-11-01</td>\n",
       "      <td>78407</td>\n",
       "      <td>6</td>\n",
       "      <td>Sunday</td>\n",
       "      <td>2020</td>\n",
       "      <td>November</td>\n",
       "    </tr>\n",
       "    <tr>\n",
       "      <th>14879</th>\n",
       "      <td>Alcoholic beverages</td>\n",
       "      <td>Beer</td>\n",
       "      <td>2020-12-01</td>\n",
       "      <td>76988</td>\n",
       "      <td>1</td>\n",
       "      <td>Tuesday</td>\n",
       "      <td>2020</td>\n",
       "      <td>December</td>\n",
       "    </tr>\n",
       "    <tr>\n",
       "      <th>14899</th>\n",
       "      <td>Alcoholic beverages</td>\n",
       "      <td>Beer</td>\n",
       "      <td>2021-01-01</td>\n",
       "      <td>79753</td>\n",
       "      <td>4</td>\n",
       "      <td>Friday</td>\n",
       "      <td>2021</td>\n",
       "      <td>January</td>\n",
       "    </tr>\n",
       "  </tbody>\n",
       "</table>\n",
       "<p>745 rows × 8 columns</p>\n",
       "</div>"
      ],
      "text/plain": [
       "                  Category Sub-Category      Month  Millions of Dollars  \\\n",
       "0      Alcoholic beverages         Beer 1976-01-01                 9908   \n",
       "1      Alcoholic beverages         Beer 1976-02-01                 9994   \n",
       "2      Alcoholic beverages         Beer 1976-03-01                10127   \n",
       "3      Alcoholic beverages         Beer 1976-04-01                10204   \n",
       "4      Alcoholic beverages         Beer 1976-05-01                10233   \n",
       "...                    ...          ...        ...                  ...   \n",
       "14819  Alcoholic beverages         Beer 2020-09-01                78580   \n",
       "14839  Alcoholic beverages         Beer 2020-10-01                77572   \n",
       "14859  Alcoholic beverages         Beer 2020-11-01                78407   \n",
       "14879  Alcoholic beverages         Beer 2020-12-01                76988   \n",
       "14899  Alcoholic beverages         Beer 2021-01-01                79753   \n",
       "\n",
       "       Weekday_num   Weekday  Year Month name  \n",
       "0                3  Thursday  1976    January  \n",
       "1                6    Sunday  1976   February  \n",
       "2                0    Monday  1976      March  \n",
       "3                3  Thursday  1976      April  \n",
       "4                5  Saturday  1976        May  \n",
       "...            ...       ...   ...        ...  \n",
       "14819            1   Tuesday  2020  September  \n",
       "14839            3  Thursday  2020    October  \n",
       "14859            6    Sunday  2020   November  \n",
       "14879            1   Tuesday  2020   December  \n",
       "14899            4    Friday  2021    January  \n",
       "\n",
       "[745 rows x 8 columns]"
      ]
     },
     "metadata": {},
     "execution_count": 26
    }
   ],
   "metadata": {}
  },
  {
   "cell_type": "code",
   "execution_count": 27,
   "source": [
    "df['Month name'].unique()"
   ],
   "outputs": [
    {
     "output_type": "execute_result",
     "data": {
      "text/plain": [
       "array(['January', 'February', 'March', 'April', 'May', 'June', 'July',\n",
       "       'August', 'September', 'October', 'November', 'December'],\n",
       "      dtype=object)"
      ]
     },
     "metadata": {},
     "execution_count": 27
    }
   ],
   "metadata": {}
  },
  {
   "cell_type": "code",
   "execution_count": 28,
   "source": [
    "x= df.loc[df['Year']== 2021].nunique()"
   ],
   "outputs": [],
   "metadata": {}
  }
 ],
 "metadata": {
  "orig_nbformat": 4,
  "language_info": {
   "name": "python",
   "version": "3.8.8",
   "mimetype": "text/x-python",
   "codemirror_mode": {
    "name": "ipython",
    "version": 3
   },
   "pygments_lexer": "ipython3",
   "nbconvert_exporter": "python",
   "file_extension": ".py"
  },
  "kernelspec": {
   "name": "python3",
   "display_name": "Python 3.8.8 64-bit"
  },
  "interpreter": {
   "hash": "b3ba2566441a7c06988d0923437866b63cedc61552a5af99d1f4fb67d367b25f"
  }
 },
 "nbformat": 4,
 "nbformat_minor": 2
}